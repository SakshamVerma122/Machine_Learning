{
 "cells": [
  {
   "cell_type": "code",
   "execution_count": 2,
   "id": "a182e843",
   "metadata": {},
   "outputs": [],
   "source": [
    "from collections import Counter\n",
    "\n",
    "# collections --> Built-in module in python which allow us to have different kind of datatypes so that we can store information\n",
    "\n",
    "# Containers --> Datatype/object that is going to store multiple objects\n",
    "# list, set, dict\n",
    "# tuple - immutable\n",
    "\n",
    "# In counter module we have the given below containers which are similar to the one written above but they have many useful predefined functions\n",
    "# Types\n",
    "# 1 counter\n",
    "# 2 deque\n",
    "# 3 namedTuple()\n",
    "# 4 orderedDict\n",
    "# 5 defaultdicy\n"
   ]
  },
  {
   "cell_type": "code",
   "execution_count": 5,
   "id": "5acb7001",
   "metadata": {},
   "outputs": [
    {
     "name": "stdout",
     "output_type": "stream",
     "text": [
      "Counter({'a': 2, 'l': 2, 'g': 1, 'd': 1})\n",
      "Counter({'a': 2, 'c': 2, 'b': 1})\n",
      "Counter({1: 4, 2: 2, 3: 2, 4: 1})\n",
      "Counter({'b': 2, 'a': 1})\n",
      "Counter({'cats': 4, 'dog': 3})\n"
     ]
    }
   ],
   "source": [
    "# String\n",
    "c = Counter(\"gallad\")\n",
    "print(c)\n",
    "\n",
    "# List of string\n",
    "c = Counter(['a','a','b','c','c'])\n",
    "print(c)\n",
    "\n",
    "# List of int\n",
    "c = Counter([1,2,3,1,1,1,2,4,3])\n",
    "print(c)\n",
    "\n",
    "# Dictonary\n",
    "c = Counter({\"a\":1,\"b\":2})\n",
    "print(c)\n",
    "\n",
    "# Assignment\n",
    "c = Counter(cats = 4,dog = 3)\n",
    "print(c)"
   ]
  },
  {
   "cell_type": "markdown",
   "id": "78e346b6",
   "metadata": {},
   "source": [
    "##### Finding element with maximum occurrenence"
   ]
  },
  {
   "cell_type": "code",
   "execution_count": 6,
   "id": "d3489d90",
   "metadata": {},
   "outputs": [
    {
     "data": {
      "text/plain": [
       "4"
      ]
     },
     "execution_count": 6,
     "metadata": {},
     "output_type": "execute_result"
    }
   ],
   "source": [
    "c = Counter([1,2,3,1,1,1,2,4,3])\n",
    "max(c)"
   ]
  },
  {
   "cell_type": "markdown",
   "id": "4132b0ad",
   "metadata": {},
   "source": [
    "##### This don't gives error if thing is not present"
   ]
  },
  {
   "cell_type": "code",
   "execution_count": 7,
   "id": "04c0587d",
   "metadata": {},
   "outputs": [
    {
     "ename": "KeyError",
     "evalue": "'lion'",
     "output_type": "error",
     "traceback": [
      "\u001b[1;31m---------------------------------------------------------------------------\u001b[0m",
      "\u001b[1;31mKeyError\u001b[0m                                  Traceback (most recent call last)",
      "\u001b[1;32m<ipython-input-7-94d58e34c35d>\u001b[0m in \u001b[0;36m<module>\u001b[1;34m\u001b[0m\n\u001b[0;32m      1\u001b[0m \u001b[0md\u001b[0m \u001b[1;33m=\u001b[0m \u001b[1;33m{\u001b[0m\u001b[1;34m\"cat\"\u001b[0m\u001b[1;33m:\u001b[0m\u001b[1;36m2\u001b[0m\u001b[1;33m}\u001b[0m\u001b[1;33m\u001b[0m\u001b[1;33m\u001b[0m\u001b[0m\n\u001b[1;32m----> 2\u001b[1;33m \u001b[0md\u001b[0m\u001b[1;33m[\u001b[0m\u001b[1;34m\"lion\"\u001b[0m\u001b[1;33m]\u001b[0m\u001b[1;33m\u001b[0m\u001b[1;33m\u001b[0m\u001b[0m\n\u001b[0m",
      "\u001b[1;31mKeyError\u001b[0m: 'lion'"
     ]
    }
   ],
   "source": [
    "d = {\"cat\":2}\n",
    "d[\"lion\"]"
   ]
  },
  {
   "cell_type": "code",
   "execution_count": 8,
   "id": "d2a09d31",
   "metadata": {},
   "outputs": [
    {
     "data": {
      "text/plain": [
       "0"
      ]
     },
     "execution_count": 8,
     "metadata": {},
     "output_type": "execute_result"
    }
   ],
   "source": [
    "d = Counter({\"cat\":2})\n",
    "d[\"lion\"]"
   ]
  },
  {
   "cell_type": "code",
   "execution_count": null,
   "id": "ddd6fb57",
   "metadata": {},
   "outputs": [],
   "source": []
  }
 ],
 "metadata": {
  "kernelspec": {
   "display_name": "PracticeENV",
   "language": "python",
   "name": "practiceenv"
  },
  "language_info": {
   "codemirror_mode": {
    "name": "ipython",
    "version": 3
   },
   "file_extension": ".py",
   "mimetype": "text/x-python",
   "name": "python",
   "nbconvert_exporter": "python",
   "pygments_lexer": "ipython3",
   "version": "3.6.13"
  }
 },
 "nbformat": 4,
 "nbformat_minor": 5
}
