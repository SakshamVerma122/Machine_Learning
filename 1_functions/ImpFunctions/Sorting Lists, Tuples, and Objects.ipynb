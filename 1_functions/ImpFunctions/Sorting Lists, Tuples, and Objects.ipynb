{
 "cells": [
  {
   "cell_type": "code",
   "execution_count": 3,
   "id": "8eb42dc8",
   "metadata": {},
   "outputs": [
    {
     "name": "stdout",
     "output_type": "stream",
     "text": [
      "Sorted Variable:\t [1, 2, 4, 5, 6, 7, 8, 9]\n",
      "Original Variable [9, 1, 8, 2, 7, 6, 4, 5]\n",
      "Original Variable:\t [1, 2, 4, 5, 6, 7, 8, 9]\n",
      "Value of si1:t None\n",
      "Value of si1:t [9, 8, 7, 6, 5, 4, 2, 1]\n"
     ]
    }
   ],
   "source": [
    "li = [9,1,8,2,7,6,4,5]\n",
    "\n",
    "# Ascending order\n",
    "s_li = sorted(li)\n",
    "# Descending order\n",
    "s_liRev = sorted(li,reverse = True)\n",
    "\n",
    "print(\"Sorted Variable:\\t\",s_li)\n",
    "print(\"Original Variable\",li)\n",
    "\n",
    "# It sorts the original list at it's place and returns None\n",
    "s_li1 = li.sort()\n",
    "\n",
    "print(\"Original Variable:\\t\",li)\n",
    "print(\"Value of si1:t\",s_li1)\n",
    "\n",
    "# Descending order\n",
    "s_li1 = li.sort(reverse = True)\n",
    "print(\"Value of si1:t\",li)"
   ]
  },
  {
   "cell_type": "markdown",
   "id": "9e3db567",
   "metadata": {},
   "source": [
    "* sort is fine with list but sorted function gives us a little bit more flexibility because we can pass any itterable as opposed to sort method which works specifically on list"
   ]
  },
  {
   "cell_type": "code",
   "execution_count": 5,
   "id": "87e9e6b8",
   "metadata": {},
   "outputs": [
    {
     "name": "stdout",
     "output_type": "stream",
     "text": [
      "['OS', 'age', 'job', 'name']\n"
     ]
    }
   ],
   "source": [
    "tup = (9,11,2,3,4,45,6,7,3)\n",
    "s_tup = sorted(tup)\n",
    "\n",
    "Dict = {\"name\":\"Saksham\",\"job\":\"progtamming\",\"age\":\"None\",\"OS\":\"Mac\"}\n",
    "s_di = sorted(Dict)\n",
    "print(s_di)"
   ]
  },
  {
   "cell_type": "markdown",
   "id": "2bce5a49",
   "metadata": {},
   "source": [
    "### Sorting based on certain critrea"
   ]
  },
  {
   "cell_type": "code",
   "execution_count": 7,
   "id": "4303a2c3",
   "metadata": {},
   "outputs": [
    {
     "data": {
      "text/plain": [
       "[1, 2, -4, 5, -8, -9]"
      ]
     },
     "execution_count": 7,
     "metadata": {},
     "output_type": "execute_result"
    }
   ],
   "source": [
    "li = [-8,5,-4,2,1,-9]\n",
    "s_li = sorted(li )\n",
    "\n",
    "# Sorting based on absolute value\n",
    "s_li = sorted(li , key = abs)\n",
    "s_li"
   ]
  },
  {
   "cell_type": "code",
   "execution_count": 11,
   "id": "39bdf6dc",
   "metadata": {},
   "outputs": [
    {
     "ename": "TypeError",
     "evalue": "'<' not supported between instances of 'Employee' and 'Employee'",
     "output_type": "error",
     "traceback": [
      "\u001b[1;31m---------------------------------------------------------------------------\u001b[0m",
      "\u001b[1;31mTypeError\u001b[0m                                 Traceback (most recent call last)",
      "\u001b[1;32m<ipython-input-11-edfe332ed382>\u001b[0m in \u001b[0;36m<module>\u001b[1;34m\u001b[0m\n\u001b[0;32m     35\u001b[0m         \u001b[0mEmployeeList\u001b[0m\u001b[1;33m.\u001b[0m\u001b[0mremove\u001b[0m\u001b[1;33m(\u001b[0m\u001b[0mcurrSmallest\u001b[0m\u001b[1;33m)\u001b[0m\u001b[1;33m\u001b[0m\u001b[1;33m\u001b[0m\u001b[0m\n\u001b[0;32m     36\u001b[0m         \u001b[0mn\u001b[0m \u001b[1;33m-=\u001b[0m \u001b[1;36m1\u001b[0m\u001b[1;33m\u001b[0m\u001b[1;33m\u001b[0m\u001b[0m\n\u001b[1;32m---> 37\u001b[1;33m \u001b[0ms_employees\u001b[0m \u001b[1;33m=\u001b[0m \u001b[0msorted\u001b[0m\u001b[1;33m(\u001b[0m\u001b[0memployees\u001b[0m\u001b[1;33m)\u001b[0m\u001b[1;33m\u001b[0m\u001b[1;33m\u001b[0m\u001b[0m\n\u001b[0m\u001b[0;32m     38\u001b[0m \u001b[0mprint\u001b[0m\u001b[1;33m(\u001b[0m\u001b[0ms_employees\u001b[0m\u001b[1;33m)\u001b[0m\u001b[1;33m\u001b[0m\u001b[1;33m\u001b[0m\u001b[0m\n",
      "\u001b[1;31mTypeError\u001b[0m: '<' not supported between instances of 'Employee' and 'Employee'"
     ]
    }
   ],
   "source": [
    "class Employee():\n",
    "    def __init__(self,name,age,salary):\n",
    "        self.name = name\n",
    "        self.age = age\n",
    "        self.salary = salary\n",
    "        \n",
    "    def __repr__(self):\n",
    "        # How this function must represent when it's going to be printed out\n",
    "        return \"({},{},${})\".format(self.name,self.age,self.salary)\n",
    "\n",
    "\n",
    "e1 = Employee(\"Carl\",37,70000)\n",
    "e2 = Employee(\"Sarah\",29,80000)\n",
    "e3 = Employee(\"John\",43,90000)\n",
    "    \n",
    "employees = [e1,e2,e3]\n",
    "\n",
    "# Writting a key funcn to sort the above as else will give the following error\n",
    "# TypeError: '<' not supported between instances of 'Employee' and 'Employee'\n",
    "\n",
    "def funcn(e1,e2):\n",
    "    if e1.name < e2.name:\n",
    "        return e1\n",
    "    else:\n",
    "        return e2\n",
    "    \n",
    "def sorting(EmployeeList):\n",
    "    sortedList = []\n",
    "    \n",
    "    n = len(EmployeeList)\n",
    "    \n",
    "    while(n>1):\n",
    "        currSmallest = reduce(funcn,EmployeeList)\n",
    "        sortedList.append(currSmallest)\n",
    "        EmployeeList.remove(currSmallest)\n",
    "        n -= 1\n",
    "s_employees = sorted(employees,key = )\n",
    "print(s_employees)"
   ]
  },
  {
   "cell_type": "code",
   "execution_count": null,
   "id": "b4b04395",
   "metadata": {},
   "outputs": [],
   "source": []
  }
 ],
 "metadata": {
  "kernelspec": {
   "display_name": "PracticeENV",
   "language": "python",
   "name": "practiceenv"
  },
  "language_info": {
   "codemirror_mode": {
    "name": "ipython",
    "version": 3
   },
   "file_extension": ".py",
   "mimetype": "text/x-python",
   "name": "python",
   "nbconvert_exporter": "python",
   "pygments_lexer": "ipython3",
   "version": "3.6.13"
  }
 },
 "nbformat": 4,
 "nbformat_minor": 5
}
