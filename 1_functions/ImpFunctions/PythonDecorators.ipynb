{
 "cells": [
  {
   "cell_type": "markdown",
   "id": "1796df87",
   "metadata": {},
   "source": [
    "### Decorators\n",
    "* Allows programmers to modify the behaviour of a function or class.\n",
    "* Allow us to wrap another function in order to extend the behaviour of the wrapped function, without permanently modifying it--> orignal function which you can change time to time as it's a paramrter to the decorator function. \n",
    "* In Decorators, functions are taken as the argument into another function and then called inside the wrapper function."
   ]
  },
  {
   "cell_type": "code",
   "execution_count": 1,
   "id": "f64e51de",
   "metadata": {},
   "outputs": [
    {
     "name": "stdout",
     "output_type": "stream",
     "text": [
      "hi\n",
      "Bye\n"
     ]
    }
   ],
   "source": [
    "def outer_function(msg):\n",
    "    message = msg\n",
    "    def inner_function():\n",
    "        print(message)\n",
    "    return inner_function\n",
    "\n",
    "\n",
    "hi_func = outer_function(\"hi\")\n",
    "Bye_func = outer_function(\"Bye\")\n",
    "\n",
    "hi_func()\n",
    "Bye_func()"
   ]
  },
  {
   "cell_type": "markdown",
   "id": "9278fe47",
   "metadata": {},
   "source": [
    "### Closure\n",
    "* A Closure is a function object that remembers values in enclosing scopes even if they are not present in memory."
   ]
  },
  {
   "cell_type": "code",
   "execution_count": 10,
   "id": "2a71bcdf",
   "metadata": {},
   "outputs": [
    {
     "name": "stdout",
     "output_type": "stream",
     "text": [
      "Display function ran\n"
     ]
    }
   ],
   "source": [
    "# Here instead of meg as in above we have passed function as an arguement and \n",
    "# here outer is replaced with decorator_function and inner function is replaced \n",
    "# via wrapper function\n",
    "\n",
    "def decorator_function(original_function):\n",
    "    def wrapper_function():\n",
    "        print(\"Wrapper executed this befor {}\".format(original_function,__name__))\n",
    "        original_function()\n",
    "    return wrapper_function\n",
    "\n",
    "def display():\n",
    "    print(\"Display function ran\")\n",
    "\n",
    "decorated_display =  decorator_function(display)\n",
    "decorated_display()"
   ]
  },
  {
   "cell_type": "code",
   "execution_count": 18,
   "id": "7171bc0b",
   "metadata": {},
   "outputs": [
    {
     "ename": "TypeError",
     "evalue": "wrapper_function() takes 0 positional arguments but 2 were given",
     "output_type": "error",
     "traceback": [
      "\u001b[1;31m---------------------------------------------------------------------------\u001b[0m",
      "\u001b[1;31mTypeError\u001b[0m                                 Traceback (most recent call last)",
      "\u001b[1;32m<ipython-input-18-fa01ed433613>\u001b[0m in \u001b[0;36m<module>\u001b[1;34m\u001b[0m\n\u001b[0;32m     17\u001b[0m \u001b[1;33m\u001b[0m\u001b[0m\n\u001b[0;32m     18\u001b[0m \u001b[1;31m# display()\u001b[0m\u001b[1;33m\u001b[0m\u001b[1;33m\u001b[0m\u001b[1;33m\u001b[0m\u001b[0m\n\u001b[1;32m---> 19\u001b[1;33m \u001b[0mdisplay_info\u001b[0m\u001b[1;33m(\u001b[0m\u001b[1;34m\"Saksham\"\u001b[0m\u001b[1;33m,\u001b[0m\u001b[1;36m25\u001b[0m\u001b[1;33m)\u001b[0m\u001b[1;33m\u001b[0m\u001b[1;33m\u001b[0m\u001b[0m\n\u001b[0m",
      "\u001b[1;31mTypeError\u001b[0m: wrapper_function() takes 0 positional arguments but 2 were given"
     ]
    }
   ],
   "source": [
    "def decorator_function(original_function):\n",
    "    def wrapper_function():\n",
    "        print(\"Hi Wrapper this side\")\n",
    "        original_function()\n",
    "    return wrapper_function\n",
    "\n",
    "\n",
    "@decorator_function\n",
    "def display():\n",
    "    print(\"Display function ran\")\n",
    "\n",
    "# This don't work here as our original function which in this case is display() don't have any parameter\n",
    "#  wrapper_function() takes 0 positional arguments but 2 were given \n",
    "# @decorator_function\n",
    "# def display_info(name, age):\n",
    "#     print(\"Display_info ran with arguements {} {}\".format(name , age))\n",
    "\n",
    "display()\n",
    "# display_info(\"Saksham\",25)"
   ]
  },
  {
   "cell_type": "markdown",
   "id": "2ed8b93d",
   "metadata": {},
   "source": [
    "### Passing arguements to wrapper function"
   ]
  },
  {
   "cell_type": "code",
   "execution_count": 23,
   "id": "d2963b90",
   "metadata": {},
   "outputs": [
    {
     "name": "stdout",
     "output_type": "stream",
     "text": [
      "Hi Wrapper this side\n",
      "Display_info ran with arguements John 25\n",
      "Hi Wrapper this side\n",
      "Display function ran\n"
     ]
    }
   ],
   "source": [
    "def decorator_function(original_function):\n",
    "    def wrapper_function(*args,**kwargs):\n",
    "        print(\"Hi Wrapper this side\")\n",
    "        original_function(*args,**kwargs)\n",
    "    return wrapper_function\n",
    "\n",
    "\n",
    "@decorator_function\n",
    "def display_info(name, age):\n",
    "     print(\"Display_info ran with arguements {} {}\".format(name , age))\n",
    "\n",
    "@decorator_function\n",
    "def display():\n",
    "    print(\"Display function ran\")\n",
    "\n",
    "display_info(\"John\",25)\n",
    "display()\n",
    "    "
   ]
  },
  {
   "cell_type": "code",
   "execution_count": null,
   "id": "20dc1d00",
   "metadata": {},
   "outputs": [],
   "source": []
  }
 ],
 "metadata": {
  "kernelspec": {
   "display_name": "PracticeENV",
   "language": "python",
   "name": "practiceenv"
  },
  "language_info": {
   "codemirror_mode": {
    "name": "ipython",
    "version": 3
   },
   "file_extension": ".py",
   "mimetype": "text/x-python",
   "name": "python",
   "nbconvert_exporter": "python",
   "pygments_lexer": "ipython3",
   "version": "3.6.13"
  }
 },
 "nbformat": 4,
 "nbformat_minor": 5
}
