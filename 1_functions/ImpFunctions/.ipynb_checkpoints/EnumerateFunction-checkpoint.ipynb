{
 "cells": [
  {
   "cell_type": "markdown",
   "id": "6f15d05f",
   "metadata": {},
   "source": [
    "### Enumerate\n",
    "* When dealing with iterators, we also get need to keep a count of iterations.\n",
    "* Enumerate() method adds a counter to an iterable and returns it in a form of enumerating object. \n",
    "* This enumerated object can then be used directly for loops or converted into a list of tuples using the list() method.\n",
    "##### Syntax\n",
    "enumerate(iterable, start)"
   ]
  },
  {
   "cell_type": "code",
   "execution_count": 1,
   "id": "8dad1f69",
   "metadata": {},
   "outputs": [
    {
     "name": "stdout",
     "output_type": "stream",
     "text": [
      "(100, 'Shubham')\n",
      "(101, 'Saksham')\n",
      "(102, 'Neelam')\n",
      "(103, 'Sanjay')\n"
     ]
    }
   ],
   "source": [
    "list1 = [\"Shubham\",\"Saksham\",\"Neelam\",\"Sanjay\"]\n",
    "\n",
    "for i in enumerate(list1,100):\n",
    "    print(i)"
   ]
  },
  {
   "cell_type": "code",
   "execution_count": 2,
   "id": "fa8582cc",
   "metadata": {},
   "outputs": [
    {
     "name": "stdout",
     "output_type": "stream",
     "text": [
      "100 Shubham\n",
      "101 Saksham\n",
      "102 Neelam\n",
      "103 Sanjay\n"
     ]
    }
   ],
   "source": [
    "for i,j in enumerate(list1,100):\n",
    "    print(i,j)"
   ]
  },
  {
   "cell_type": "code",
   "execution_count": null,
   "id": "4b75f260",
   "metadata": {},
   "outputs": [],
   "source": []
  }
 ],
 "metadata": {
  "kernelspec": {
   "display_name": "PracticeENV",
   "language": "python",
   "name": "practiceenv"
  },
  "language_info": {
   "codemirror_mode": {
    "name": "ipython",
    "version": 3
   },
   "file_extension": ".py",
   "mimetype": "text/x-python",
   "name": "python",
   "nbconvert_exporter": "python",
   "pygments_lexer": "ipython3",
   "version": "3.6.13"
  }
 },
 "nbformat": 4,
 "nbformat_minor": 5
}
