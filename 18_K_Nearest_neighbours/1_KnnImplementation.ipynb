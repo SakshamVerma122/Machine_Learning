{
 "cells": [
  {
   "cell_type": "code",
   "execution_count": 3,
   "id": "45db8ec6",
   "metadata": {
    "scrolled": true
   },
   "outputs": [
    {
     "ename": "NameError",
     "evalue": "name 'X' is not defined",
     "output_type": "error",
     "traceback": [
      "\u001b[1;31m---------------------------------------------------------------------------\u001b[0m",
      "\u001b[1;31mNameError\u001b[0m                                 Traceback (most recent call last)",
      "Input \u001b[1;32mIn [3]\u001b[0m, in \u001b[0;36m<cell line: 2>\u001b[1;34m()\u001b[0m\n\u001b[0;32m      1\u001b[0m \u001b[38;5;66;03m# IMPORTANT [,],[,] --> This doesn't makes columns but forms rows whereas [,,,] --> is for columns\u001b[39;00m\n\u001b[1;32m----> 2\u001b[0m X1 \u001b[38;5;241m=\u001b[39m \u001b[43mX\u001b[49m\u001b[38;5;241m.\u001b[39mreshape((\u001b[38;5;241m-\u001b[39m\u001b[38;5;241m1\u001b[39m,\u001b[38;5;241m2\u001b[39m))\n\u001b[0;32m      3\u001b[0m X2 \u001b[38;5;241m=\u001b[39m X\u001b[38;5;241m.\u001b[39mreshape((\u001b[38;5;241m-\u001b[39m\u001b[38;5;241m1\u001b[39m,\u001b[38;5;241m2\u001b[39m))\n\u001b[0;32m      4\u001b[0m np\u001b[38;5;241m.\u001b[39marray([X1,X2])\u001b[38;5;241m.\u001b[39mshape\n",
      "\u001b[1;31mNameError\u001b[0m: name 'X' is not defined"
     ]
    }
   ],
   "source": [
    "# IMPORTANT [,],[,] --> This doesn't makes columns but forms rows whereas [,,,] --> is for columns\n",
    "X1 = X.reshape((-1,2))\n",
    "X2 = X.reshape((-1,2))\n",
    "np.array([X1,X2]).shape"
   ]
  },
  {
   "cell_type": "code",
   "execution_count": 27,
   "id": "ff0983e9",
   "metadata": {},
   "outputs": [],
   "source": [
    "import pandas as pd\n",
    "import numpy as np\n",
    "import matplotlib.pyplot as plt\n",
    "import random as rand"
   ]
  },
  {
   "cell_type": "markdown",
   "id": "388d9a02",
   "metadata": {},
   "source": [
    "### Creating a data set for K Nearest Neighbour"
   ]
  },
  {
   "cell_type": "code",
   "execution_count": 28,
   "id": "f43b7bbb",
   "metadata": {},
   "outputs": [],
   "source": [
    "X1 = np.array([])\n",
    "X2 = np.array([])\n",
    "Y1 = np.array([])\n",
    "Y2 = np.array([])"
   ]
  },
  {
   "cell_type": "code",
   "execution_count": 29,
   "id": "78cf9fb1",
   "metadata": {},
   "outputs": [],
   "source": [
    "# Taking 30 vals from each rand.seed\n",
    "for i in range(11):\n",
    "    rand.seed(i)\n",
    "    X1 = np.concatenate((X1,np.random.randint(low = 1,high = 500,size = 4)))\n",
    "    X2 = np.concatenate((X2,np.random.randint(low = 500,high = 800,size= 4)))\n",
    "    Y1 = np.concatenate((Y1,np.random.randint(low = 600,high = 1000,size= 4)))\n",
    "    Y2 = np.concatenate((Y2,np.random.randint(low = 1,high = 300,size= 4)))\n",
    "\n",
    "#  Assigning zero values to X1,Y1 and one values to X2,Y2\n",
    "Z1 = np.zeros(44)\n",
    "Z2 = np.ones(44)"
   ]
  },
  {
   "cell_type": "markdown",
   "id": "9883a6b1",
   "metadata": {},
   "source": [
    "##### Combining them to a table "
   ]
  },
  {
   "cell_type": "code",
   "execution_count": 30,
   "id": "9297d748",
   "metadata": {},
   "outputs": [],
   "source": [
    "X = np.concatenate((X1,X2))\n",
    "Y = np.concatenate((Y1,Y2))\n",
    "Z = np.concatenate((Z1,Z2))"
   ]
  },
  {
   "cell_type": "code",
   "execution_count": 31,
   "id": "07f95aa0",
   "metadata": {},
   "outputs": [
    {
     "data": {
      "text/plain": [
       "array([  9., 257., 460., 384., 285., 225., 242., 234.,  57., 387., 221.,\n",
       "       312., 354., 162., 233., 271.,  69., 453., 438.,  54.,  57., 453.,\n",
       "       427., 479., 222., 366., 312.,   9., 198., 408., 484.,  30., 234.,\n",
       "       172., 338., 128., 416., 451., 172.,  42., 299., 268., 293., 356.,\n",
       "       599., 678., 593., 713., 649., 632., 727., 723., 636., 780., 721.,\n",
       "       676., 777., 690., 777., 565., 755., 608., 530., 531., 601., 503.,\n",
       "       580., 684., 604., 726., 564., 630., 702., 569., 685., 531., 714.,\n",
       "       592., 566., 526., 635., 705., 546., 632., 537., 751., 682., 685.])"
      ]
     },
     "execution_count": 31,
     "metadata": {},
     "output_type": "execute_result"
    }
   ],
   "source": [
    "X"
   ]
  },
  {
   "cell_type": "markdown",
   "id": "d09b73ed",
   "metadata": {},
   "source": [
    "##### Combining 1D Column numpy array"
   ]
  },
  {
   "cell_type": "code",
   "execution_count": 32,
   "id": "97e73ad4",
   "metadata": {},
   "outputs": [],
   "source": [
    "k_1 = np.array([X,Y,Z]).transpose()"
   ]
  },
  {
   "cell_type": "code",
   "execution_count": 33,
   "id": "9560724a",
   "metadata": {
    "scrolled": true
   },
   "outputs": [
    {
     "data": {
      "text/plain": [
       "array([[  9., 905.,   0.],\n",
       "       [257., 640.,   0.],\n",
       "       [460., 632.,   0.],\n",
       "       [384., 796.,   0.],\n",
       "       [285., 802.,   0.],\n",
       "       [225., 848.,   0.],\n",
       "       [242., 845.,   0.],\n",
       "       [234., 880.,   0.],\n",
       "       [ 57., 794.,   0.],\n",
       "       [387., 900.,   0.],\n",
       "       [221., 745.,   0.],\n",
       "       [312., 867.,   0.],\n",
       "       [354., 883.,   0.],\n",
       "       [162., 903.,   0.],\n",
       "       [233., 658.,   0.],\n",
       "       [271., 727.,   0.],\n",
       "       [ 69., 771.,   0.],\n",
       "       [453., 845.,   0.],\n",
       "       [438., 826.,   0.],\n",
       "       [ 54., 744.,   0.],\n",
       "       [ 57., 667.,   0.],\n",
       "       [453., 775.,   0.],\n",
       "       [427., 675.,   0.],\n",
       "       [479., 888.,   0.],\n",
       "       [222., 725.,   0.],\n",
       "       [366., 806.,   0.],\n",
       "       [312., 731.,   0.],\n",
       "       [  9., 626.,   0.],\n",
       "       [198., 634.,   0.],\n",
       "       [408., 774.,   0.],\n",
       "       [484., 845.,   0.],\n",
       "       [ 30., 927.,   0.],\n",
       "       [234., 946.,   0.],\n",
       "       [172., 662.,   0.],\n",
       "       [338., 882.,   0.],\n",
       "       [128., 723.,   0.],\n",
       "       [416., 975.,   0.],\n",
       "       [451., 998.,   0.],\n",
       "       [172., 922.,   0.],\n",
       "       [ 42., 643.,   0.],\n",
       "       [299., 848.,   0.],\n",
       "       [268., 977.,   0.],\n",
       "       [293., 863.,   0.],\n",
       "       [356., 989.,   0.],\n",
       "       [599., 108.,   1.],\n",
       "       [678.,  91.,   1.],\n",
       "       [593.,  96.,   1.],\n",
       "       [713.,  94.,   1.],\n",
       "       [649., 136.,   1.],\n",
       "       [632.,  99.,   1.],\n",
       "       [727.,  83.,   1.],\n",
       "       [723., 183.,   1.],\n",
       "       [636., 120.,   1.],\n",
       "       [780., 190.,   1.],\n",
       "       [721., 161.,   1.],\n",
       "       [676.,  57.,   1.],\n",
       "       [777.,  39.,   1.],\n",
       "       [690., 109.,   1.],\n",
       "       [777., 108.,   1.],\n",
       "       [565., 233.,   1.],\n",
       "       [755., 104.,   1.],\n",
       "       [608., 252.,   1.],\n",
       "       [530.,  81.,   1.],\n",
       "       [531.,  87.,   1.],\n",
       "       [601.,  59.,   1.],\n",
       "       [503., 237.,   1.],\n",
       "       [580., 222.,   1.],\n",
       "       [684.,  62.,   1.],\n",
       "       [604., 202.,   1.],\n",
       "       [726., 136.,   1.],\n",
       "       [564., 242.,   1.],\n",
       "       [630.,  13.,   1.],\n",
       "       [702.,  70.,   1.],\n",
       "       [569., 234.,   1.],\n",
       "       [685., 208.,   1.],\n",
       "       [531., 263.,   1.],\n",
       "       [714., 174.,   1.],\n",
       "       [592., 241.,   1.],\n",
       "       [566., 217.,   1.],\n",
       "       [526., 289.,   1.],\n",
       "       [635.,  22.,   1.],\n",
       "       [705., 295.,   1.],\n",
       "       [546.,  21.,   1.],\n",
       "       [632., 201.,   1.],\n",
       "       [537., 240.,   1.],\n",
       "       [751., 166.,   1.],\n",
       "       [682.,  83.,   1.],\n",
       "       [685.,  77.,   1.]])"
      ]
     },
     "execution_count": 33,
     "metadata": {},
     "output_type": "execute_result"
    }
   ],
   "source": [
    "k_1"
   ]
  },
  {
   "cell_type": "code",
   "execution_count": 34,
   "id": "cd622977",
   "metadata": {},
   "outputs": [],
   "source": [
    "df = pd.DataFrame(k_1,columns = [\"X\",\"Y\",\"Z\"])"
   ]
  },
  {
   "cell_type": "code",
   "execution_count": 35,
   "id": "eb8b55f8",
   "metadata": {},
   "outputs": [
    {
     "data": {
      "text/html": [
       "<div>\n",
       "<style scoped>\n",
       "    .dataframe tbody tr th:only-of-type {\n",
       "        vertical-align: middle;\n",
       "    }\n",
       "\n",
       "    .dataframe tbody tr th {\n",
       "        vertical-align: top;\n",
       "    }\n",
       "\n",
       "    .dataframe thead th {\n",
       "        text-align: right;\n",
       "    }\n",
       "</style>\n",
       "<table border=\"1\" class=\"dataframe\">\n",
       "  <thead>\n",
       "    <tr style=\"text-align: right;\">\n",
       "      <th></th>\n",
       "      <th>X</th>\n",
       "      <th>Y</th>\n",
       "      <th>Z</th>\n",
       "    </tr>\n",
       "  </thead>\n",
       "  <tbody>\n",
       "    <tr>\n",
       "      <th>0</th>\n",
       "      <td>9.0</td>\n",
       "      <td>905.0</td>\n",
       "      <td>0.0</td>\n",
       "    </tr>\n",
       "    <tr>\n",
       "      <th>1</th>\n",
       "      <td>257.0</td>\n",
       "      <td>640.0</td>\n",
       "      <td>0.0</td>\n",
       "    </tr>\n",
       "    <tr>\n",
       "      <th>2</th>\n",
       "      <td>460.0</td>\n",
       "      <td>632.0</td>\n",
       "      <td>0.0</td>\n",
       "    </tr>\n",
       "    <tr>\n",
       "      <th>3</th>\n",
       "      <td>384.0</td>\n",
       "      <td>796.0</td>\n",
       "      <td>0.0</td>\n",
       "    </tr>\n",
       "    <tr>\n",
       "      <th>4</th>\n",
       "      <td>285.0</td>\n",
       "      <td>802.0</td>\n",
       "      <td>0.0</td>\n",
       "    </tr>\n",
       "  </tbody>\n",
       "</table>\n",
       "</div>"
      ],
      "text/plain": [
       "       X      Y    Z\n",
       "0    9.0  905.0  0.0\n",
       "1  257.0  640.0  0.0\n",
       "2  460.0  632.0  0.0\n",
       "3  384.0  796.0  0.0\n",
       "4  285.0  802.0  0.0"
      ]
     },
     "execution_count": 35,
     "metadata": {},
     "output_type": "execute_result"
    }
   ],
   "source": [
    "df.head()"
   ]
  },
  {
   "cell_type": "code",
   "execution_count": 36,
   "id": "841fbb05",
   "metadata": {},
   "outputs": [
    {
     "data": {
      "text/plain": [
       "<matplotlib.collections.PathCollection at 0x278a7367160>"
      ]
     },
     "execution_count": 36,
     "metadata": {},
     "output_type": "execute_result"
    },
    {
     "data": {
      "image/png": "[encoded data removed]",
      "text/plain": [
       "<Figure size 432x288 with 1 Axes>"
      ]
     },
     "metadata": {
      "needs_background": "light"
     },
     "output_type": "display_data"
    }
   ],
   "source": [
    "plt.scatter(df.X,df.Y,c = df.Z)"
   ]
  },
  {
   "cell_type": "markdown",
   "id": "8bc049fd",
   "metadata": {},
   "source": [
    "### Creating algoritm"
   ]
  },
  {
   "cell_type": "code",
   "execution_count": 43,
   "id": "a3407218",
   "metadata": {},
   "outputs": [],
   "source": [
    "from collections import Counter\n",
    "\n",
    "def CalEuclideandist(x1,x2):\n",
    "    return(np.sqrt(sum((x1 -x2)**2)))\n",
    "\n",
    "def Knn(X,Y,Point,key=5):\n",
    "    \n",
    "    vals= []\n",
    "    m= X.shape[0]\n",
    "    \n",
    "    for i in range(m):\n",
    "        dist = CalEuclideandist(X.iloc[i,:],Point)\n",
    "        vals.append((dist,Y[i]))\n",
    "        \n",
    "    vals = sorted(vals,key = lambda x : x[0])\n",
    "    \n",
    "    # Nearest / First K points\n",
    "    vals = vals[:key]\n",
    "    \n",
    "    vals = np.array(vals)\n",
    "    print(max(Counter(vals[:,1])))\n",
    "\n",
    "    "
   ]
  },
  {
   "cell_type": "code",
   "execution_count": 44,
   "id": "61bec583",
   "metadata": {},
   "outputs": [
    {
     "name": "stdout",
     "output_type": "stream",
     "text": [
      "1.0\n"
     ]
    }
   ],
   "source": [
    "X = df.iloc[:,:2]\n",
    "Y = df[\"Z\"]\n",
    "point = (500,400)\n",
    "\n",
    "Knn(X,Y,point,5)"
   ]
  }
 ],
 "metadata": {
  "kernelspec": {
   "display_name": "Python 3 (ipykernel)",
   "language": "python",
   "name": "python3"
  },
  "language_info": {
   "codemirror_mode": {
    "name": "ipython",
    "version": 3
   },
   "file_extension": ".py",
   "mimetype": "text/x-python",
   "name": "python",
   "nbconvert_exporter": "python",
   "pygments_lexer": "ipython3",
   "version": "3.9.12"
  }
 },
 "nbformat": 4,
 "nbformat_minor": 5
}
