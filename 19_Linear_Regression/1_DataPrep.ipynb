{
 "cells": [
  {
   "cell_type": "code",
   "execution_count": 10,
   "id": "c390b173",
   "metadata": {},
   "outputs": [],
   "source": [
    "import pandas as pd\n",
    "import numpy as np\n",
    "import scipy as sns\n",
    "import matplotlib.pyplot as plt"
   ]
  },
  {
   "cell_type": "markdown",
   "id": "707b1533",
   "metadata": {},
   "source": [
    "### Loading data"
   ]
  },
  {
   "cell_type": "code",
   "execution_count": 18,
   "id": "444ec25f",
   "metadata": {},
   "outputs": [],
   "source": [
    "X_train = pd.read_csv(\"Linear_X_Train.csv\")\n",
    "Y_train = pd.read_csv(\"Linear_Y_Train.csv\")"
   ]
  },
  {
   "cell_type": "code",
   "execution_count": 19,
   "id": "fc8cf1b6",
   "metadata": {},
   "outputs": [
    {
     "data": {
      "text/html": [
       "<div>\n",
       "<style scoped>\n",
       "    .dataframe tbody tr th:only-of-type {\n",
       "        vertical-align: middle;\n",
       "    }\n",
       "\n",
       "    .dataframe tbody tr th {\n",
       "        vertical-align: top;\n",
       "    }\n",
       "\n",
       "    .dataframe thead th {\n",
       "        text-align: right;\n",
       "    }\n",
       "</style>\n",
       "<table border=\"1\" class=\"dataframe\">\n",
       "  <thead>\n",
       "    <tr style=\"text-align: right;\">\n",
       "      <th></th>\n",
       "      <th>x</th>\n",
       "    </tr>\n",
       "  </thead>\n",
       "  <tbody>\n",
       "    <tr>\n",
       "      <th>0</th>\n",
       "      <td>-0.289307</td>\n",
       "    </tr>\n",
       "    <tr>\n",
       "      <th>1</th>\n",
       "      <td>-0.588810</td>\n",
       "    </tr>\n",
       "    <tr>\n",
       "      <th>2</th>\n",
       "      <td>1.027507</td>\n",
       "    </tr>\n",
       "    <tr>\n",
       "      <th>3</th>\n",
       "      <td>-0.259013</td>\n",
       "    </tr>\n",
       "    <tr>\n",
       "      <th>4</th>\n",
       "      <td>0.782043</td>\n",
       "    </tr>\n",
       "  </tbody>\n",
       "</table>\n",
       "</div>"
      ],
      "text/plain": [
       "          x\n",
       "0 -0.289307\n",
       "1 -0.588810\n",
       "2  1.027507\n",
       "3 -0.259013\n",
       "4  0.782043"
      ]
     },
     "execution_count": 19,
     "metadata": {},
     "output_type": "execute_result"
    }
   ],
   "source": [
    "X_train.head()"
   ]
  },
  {
   "cell_type": "code",
   "execution_count": 20,
   "id": "24ccb896",
   "metadata": {},
   "outputs": [
    {
     "data": {
      "text/html": [
       "<div>\n",
       "<style scoped>\n",
       "    .dataframe tbody tr th:only-of-type {\n",
       "        vertical-align: middle;\n",
       "    }\n",
       "\n",
       "    .dataframe tbody tr th {\n",
       "        vertical-align: top;\n",
       "    }\n",
       "\n",
       "    .dataframe thead th {\n",
       "        text-align: right;\n",
       "    }\n",
       "</style>\n",
       "<table border=\"1\" class=\"dataframe\">\n",
       "  <thead>\n",
       "    <tr style=\"text-align: right;\">\n",
       "      <th></th>\n",
       "      <th>y</th>\n",
       "    </tr>\n",
       "  </thead>\n",
       "  <tbody>\n",
       "    <tr>\n",
       "      <th>0</th>\n",
       "      <td>-0.091101</td>\n",
       "    </tr>\n",
       "    <tr>\n",
       "      <th>1</th>\n",
       "      <td>-53.467721</td>\n",
       "    </tr>\n",
       "    <tr>\n",
       "      <th>2</th>\n",
       "      <td>75.457009</td>\n",
       "    </tr>\n",
       "    <tr>\n",
       "      <th>3</th>\n",
       "      <td>-12.025286</td>\n",
       "    </tr>\n",
       "    <tr>\n",
       "      <th>4</th>\n",
       "      <td>57.414187</td>\n",
       "    </tr>\n",
       "  </tbody>\n",
       "</table>\n",
       "</div>"
      ],
      "text/plain": [
       "           y\n",
       "0  -0.091101\n",
       "1 -53.467721\n",
       "2  75.457009\n",
       "3 -12.025286\n",
       "4  57.414187"
      ]
     },
     "execution_count": 20,
     "metadata": {},
     "output_type": "execute_result"
    }
   ],
   "source": [
    "Y_train.head()"
   ]
  },
  {
   "cell_type": "code",
   "execution_count": 21,
   "id": "6e0d2ba6",
   "metadata": {},
   "outputs": [
    {
     "data": {
      "text/plain": [
       "Text(0, 0.5, 'Y_train')"
      ]
     },
     "execution_count": 21,
     "metadata": {},
     "output_type": "execute_result"
    },
    {
     "data": {
      "image/png": "[encoded data removed]",
      "text/plain": [
       "<Figure size 576x396 with 1 Axes>"
      ]
     },
     "metadata": {},
     "output_type": "display_data"
    }
   ],
   "source": [
    "plt.style.use(\"seaborn\")\n",
    "plt.scatter(X_train,Y_train)\n",
    "plt.xlabel(\"Hardwork\")\n",
    "plt.ylabel(\"Performance\")"
   ]
  },
  {
   "cell_type": "code",
   "execution_count": 22,
   "id": "cc698956",
   "metadata": {},
   "outputs": [
    {
     "data": {
      "text/plain": [
       "(3750, 1)"
      ]
     },
     "execution_count": 22,
     "metadata": {},
     "output_type": "execute_result"
    }
   ],
   "source": [
    "X_train.shape"
   ]
  },
  {
   "cell_type": "code",
   "execution_count": 23,
   "id": "eae6f81e",
   "metadata": {},
   "outputs": [],
   "source": [
    "## Convert X_train and Y_train into numpy arrays ##\n",
    "\n",
    "X_train = X_train.values\n",
    "Y_train = Y_train.values\n",
    "\n",
    "## Normalise the data ##\n",
    "X_train = (X_train-X_train.mean())/X_train.std()\n",
    "Y_train = (Y_train-Y_train.mean())/Y_train.std()"
   ]
  },
  {
   "cell_type": "code",
   "execution_count": 36,
   "id": "2e0f0a24",
   "metadata": {
    "scrolled": true
   },
   "outputs": [
    {
     "data": {
      "text/plain": [
       "(array([  14.,   70.,  349.,  833., 1158.,  863.,  370.,   81.,    7.,\n",
       "           5.]),\n",
       " array([-3.54713493, -2.76301239, -1.97888984, -1.1947673 , -0.41064475,\n",
       "         0.3734778 ,  1.15760034,  1.94172289,  2.72584543,  3.50996798,\n",
       "         4.29409053]),\n",
       " <BarContainer object of 10 artists>)"
      ]
     },
     "execution_count": 36,
     "metadata": {},
     "output_type": "execute_result"
    },
    {
     "data": {
      "image/png": "[encoded data removed]",
      "text/plain": [
       "<Figure size 576x396 with 1 Axes>"
      ]
     },
     "metadata": {},
     "output_type": "display_data"
    }
   ],
   "source": [
    "plt.hist(X_train,alpha=0.8)\n",
    "plt.hist(Y_train,alpha=0.5)"
   ]
  },
  {
   "cell_type": "code",
   "execution_count": 39,
   "id": "3bf7b1d6",
   "metadata": {},
   "outputs": [
    {
     "name": "stdout",
     "output_type": "stream",
     "text": [
      "[[-0.25352061]\n",
      " [-0.55541377]\n",
      " [ 1.07380656]\n",
      " ...\n",
      " [-0.26950343]\n",
      " [ 1.72730762]\n",
      " [-0.4575866 ]]\n"
     ]
    }
   ],
   "source": [
    "print(X_train)"
   ]
  },
  {
   "cell_type": "markdown",
   "id": "4183e67f",
   "metadata": {},
   "source": [
    "###  Linear Regression"
   ]
  },
  {
   "cell_type": "code",
   "execution_count": null,
   "id": "b5ddfa81",
   "metadata": {},
   "outputs": [],
   "source": [
    "# Mean_square= 1/m sigma(fx_actual - theta_1*x + theta_0)**2\n",
    "\n",
    "def hypothesis(x,theta):\n",
    "    \n",
    "    # adding ones to x_train to fit theta_0\n",
    "    for i in range X_train.shape[0]:\n",
    "        X_train[i].append(1)\n",
    "        \n",
    "    Y_train - np.dot(theta,x).sum()\n",
    "    return Mean_abs_square\n",
    "\n",
    "def gradient(X_train,Y_train,theta):\n",
    "    m= X_train.shape[0]\n",
    "    gradient = np.zeros((2,))\n",
    "    \n",
    "def Gradient_descent(Mean_square):\n",
    "    theta = 0\n",
    "    "
   ]
  }
 ],
 "metadata": {
  "kernelspec": {
   "display_name": "Python 3 (ipykernel)",
   "language": "python",
   "name": "python3"
  },
  "language_info": {
   "codemirror_mode": {
    "name": "ipython",
    "version": 3
   },
   "file_extension": ".py",
   "mimetype": "text/x-python",
   "name": "python",
   "nbconvert_exporter": "python",
   "pygments_lexer": "ipython3",
   "version": "3.9.12"
  }
 },
 "nbformat": 4,
 "nbformat_minor": 5
}
