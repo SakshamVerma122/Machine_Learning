{
 "cells": [
  {
   "cell_type": "code",
   "execution_count": 6,
   "id": "eefdb614",
   "metadata": {},
   "outputs": [
    {
     "name": "stdout",
     "output_type": "stream",
     "text": [
      "(1000,)\n",
      "STD:  1.015125491294154\n",
      "Mean:  -0.012356322516277609\n",
      "STD:  0.9999999999999999\n",
      "Mean:  2.842170943040401e-17\n",
      "[-5.78515137e-02 -8.04876386e-02 -5.09786898e-01 -6.55831157e-02\n",
      " -1.39262707e+00  8.99105180e-02  5.68633752e-02 -3.65068881e-01\n",
      "  2.26141251e-01  8.01662766e-02  1.26264176e-01 -9.03114837e-01\n",
      " -7.65166904e-01  1.17810028e+00  5.94399650e-01  7.25294962e-01\n",
      "  2.89701563e+00 -6.66751422e-01  8.40742857e-01 -7.70156564e-01\n",
      " -7.25225064e-01  4.57447109e-01  6.49738039e-02 -5.93872777e-01\n",
      "  1.03755945e-02 -3.01293799e-01  1.43787418e+00  1.42968672e-01\n",
      " -9.64627586e-01 -3.41738103e+00  9.62150319e-01  3.86338634e-01\n",
      "  3.76995038e-01  1.54012477e+00 -8.06493809e-01 -3.26698353e-01\n",
      " -3.52408138e-02 -4.20240749e-01  4.03142975e-01 -5.99841904e-01\n",
      " -2.32474367e+00  1.12354479e+00  2.11780689e-01 -8.83963339e-01\n",
      " -6.26460154e-01  1.05188036e+00  1.08792520e+00  8.24216604e-01\n",
      " -1.37629584e-01  1.39668236e+00  3.62119185e-01  2.47396183e-01\n",
      "  6.54041176e-02  5.33229031e-01  8.72830557e-01 -7.60954067e-01\n",
      " -8.75719318e-01  1.31535692e+00 -1.71756964e-01  1.52654597e-01\n",
      "  8.22078581e-01 -1.39219520e+00 -4.44056565e-03  2.04779955e+00\n",
      "  8.01137416e-01  2.09396413e-01 -6.66635922e-01 -9.93065204e-02\n",
      " -3.04010590e-01  5.84087345e-01  1.03021371e+00  2.73456561e+00\n",
      "  3.16516798e-01  4.47963548e-01 -7.22747440e-01  2.17518330e+00\n",
      " -9.38420793e-01  7.59359508e-01  1.15283383e+00  1.45678364e+00\n",
      " -2.25672312e-02  2.82749306e-01  5.47474517e-01 -4.12159885e-01\n",
      " -5.00104742e-01 -1.21465436e+00  3.02181081e-01  3.68359845e-01\n",
      "  7.99760553e-02 -5.86854218e-01 -1.18018605e+00  5.64010353e-01\n",
      "  3.36498912e-01 -8.58914291e-01 -7.14897293e-01  2.10734439e+00\n",
      "  1.90670618e+00  1.42354160e+00 -2.88257810e-01 -2.92972039e-02\n",
      " -1.73416268e+00 -3.93411252e-01  1.80333482e-01 -6.74531402e-01\n",
      "  8.58797317e-01  1.31779605e+00  4.69466221e-01  6.99934805e-01\n",
      "  1.43637973e+00 -1.91726270e-01  1.39436609e-01 -8.77908360e-01\n",
      " -1.63027806e-01 -7.30098519e-01  6.77687429e-01  2.21256549e-01\n",
      " -7.93121785e-01 -2.25658735e+00  1.34885696e-01 -1.74819863e+00\n",
      "  7.92959567e-01 -1.17456710e+00  4.54008991e-02 -7.78023903e-02\n",
      "  1.44179738e+00 -2.05880042e+00  1.25800964e+00 -9.39840210e-01\n",
      " -4.39731264e-01  5.20971704e-01  9.02087479e-01 -1.17388659e-01\n",
      "  1.97840421e+00  1.08677429e+00  1.03915941e+00 -1.63856185e-01\n",
      " -1.77023237e-01  1.64549781e+00 -6.82000111e-01 -3.40261934e-01\n",
      "  6.17184226e-01  1.15695776e-01 -2.30983303e-01 -5.69193143e-01\n",
      "  1.25102126e+00 -6.00876428e-01  3.46291929e-01 -1.20938147e+00\n",
      " -3.30075166e-01 -5.45026242e-01  9.49545388e-01  1.75238381e-01\n",
      " -2.24345996e+00 -1.09311920e+00 -8.58000797e-01  1.53112143e-01\n",
      "  4.78039018e-01 -7.85290515e-01  1.71365911e-01 -1.74784152e+00\n",
      " -2.99593893e-02 -1.87976915e+00 -2.19218791e-02  9.88381932e-02\n",
      " -1.73326118e-01 -1.06509978e-01  1.01385514e-01 -1.96545056e+00\n",
      " -5.20192719e-01 -9.79416548e-01 -5.81467579e-01 -3.35020222e-01\n",
      "  1.94524293e-01 -3.35072794e-02  1.49304334e-01  3.50628233e-01\n",
      "  1.08665798e+00  1.11213350e+00 -5.49370432e-01 -1.28939983e+00\n",
      " -1.69476468e+00 -4.06943232e-01 -4.55247608e-01  1.67111258e+00\n",
      "  2.27718472e-01 -1.28214281e-01 -1.44471713e+00 -3.54983377e-02\n",
      " -1.71360396e-02  2.40511558e+00 -1.54271958e-01  6.12617705e-01\n",
      " -3.00468489e-01 -1.46322566e+00  2.57319586e-01 -6.33239660e-01\n",
      "  1.20960100e+00 -2.86674311e-01  6.96048269e-01 -1.06772537e-02\n",
      " -4.29267420e-02  4.67585860e-03 -5.46350984e-01  1.19493263e+00\n",
      "  8.29618025e-01 -2.58714523e-01 -3.74992548e-01  1.00577927e+00\n",
      " -9.40749844e-01 -8.11426223e-01  2.67806925e+00  9.18829572e-03\n",
      "  3.60493766e-01 -9.29623444e-02  2.64807917e-01  2.58674398e-01\n",
      "  8.59700322e-01  1.23003223e+00  4.57194765e-01  1.49856458e+00\n",
      " -8.52599268e-01 -6.74915094e-01 -4.33911303e-01  1.16902433e+00\n",
      "  1.92911160e-01 -1.83114492e-01  9.01134084e-01  6.22313075e-01\n",
      "  2.18196085e-01 -5.11080231e-01 -1.73487411e-01 -8.24573014e-01\n",
      "  1.30236743e-01 -1.15897637e+00 -1.57269802e+00 -1.41126718e-01\n",
      "  4.83455955e-01  7.00214737e-01 -4.75906080e-01  1.82219564e+00\n",
      "  1.18080560e-01 -1.03276385e+00  1.15205739e+00  2.04941519e-01\n",
      " -3.37511608e-01  1.31236791e+00  3.37909230e-02 -8.72209965e-01\n",
      " -1.00712698e+00  1.44363445e+00  2.81729239e-03 -1.55206471e+00\n",
      "  1.06489305e+00  2.65522441e-01  1.67753915e-01  2.12010313e-01\n",
      " -4.57726825e-01  1.62289901e-01 -1.01899979e+00  3.30768969e-01\n",
      " -4.50450655e-01 -9.74477161e-01  1.74835601e-01 -8.09127805e-01\n",
      "  9.24370689e-01 -1.03349937e+00  4.04174106e-01  2.00546954e-01\n",
      " -1.49088385e+00  2.53255362e-01  1.12971575e+00 -1.40690818e+00\n",
      "  1.36585563e+00  2.93927120e-01 -1.74687365e-01  1.23123936e+00\n",
      " -2.58152891e-01 -1.71037888e+00 -1.40008082e+00  3.11952937e-02\n",
      " -1.03269945e-01 -9.54846998e-01 -5.34913582e-02 -1.61787873e+00\n",
      "  2.85689469e-01 -1.40656530e+00 -2.17558910e-01  8.74470111e-01\n",
      "  6.43873256e-02  1.85800217e+00 -2.78133404e-02  1.09617736e+00\n",
      " -5.49858243e-01  3.02429153e-01  6.99139447e-01  2.72280661e-01\n",
      "  1.35267425e-01 -8.63072740e-01 -7.31367651e-01 -3.16797766e-01\n",
      "  1.02661064e+00 -7.53648391e-01  5.91980766e-01  3.46110589e-01\n",
      "  2.78363395e-02  6.47058277e-02 -8.99176916e-02 -9.44504716e-01\n",
      "  2.92994618e-01  1.04052305e+00  1.08984037e-01  9.06822465e-01\n",
      " -9.63270065e-01 -5.84510745e-01 -1.19459605e+00 -1.79708323e-01\n",
      " -5.30020148e-01  6.98509921e-01  9.69919568e-01  1.84007946e+00\n",
      " -1.73631236e+00  7.28438993e-01 -7.76819472e-01  1.24334110e-01\n",
      " -9.06226804e-01  9.05124174e-01 -1.66860273e-01  1.29918061e+00\n",
      "  1.46363188e+00 -2.11801727e-01 -8.79042566e-01 -2.29224117e+00\n",
      "  3.36870207e-01  8.11213510e-01 -3.85794464e-01 -3.47667840e-01\n",
      "  2.51105817e-01  1.34922344e+00  8.04531386e-01  2.36114763e-01\n",
      "  1.64348718e-01 -4.31768088e-01 -1.36456122e+00  9.76047569e-01\n",
      "  1.13880766e+00  1.19120587e-01  2.77048735e-01 -6.61979317e-02\n",
      "  3.59530826e-01  8.04251973e-01  1.00821077e+00 -1.44316381e+00\n",
      " -1.43898475e+00  2.09764466e+00  1.43129761e+00 -4.15181493e-01\n",
      "  3.78008096e-03 -4.24381441e-01  7.23576213e-02  1.38604524e+00\n",
      "  3.65665498e-01 -1.04668722e+00  5.17091504e-01  2.14256225e+00\n",
      "  1.01353312e+00  6.34363751e-01  3.98658708e-01  7.11849180e-01\n",
      "  9.82541601e-01  1.63603669e-01  5.97355565e-01 -5.41651489e-01\n",
      " -4.70047889e-02  1.17583601e+00 -6.33045618e-02 -3.36658092e-01\n",
      "  6.56163430e-01  5.93930492e-02  7.24616350e-01 -1.35402619e-02\n",
      " -5.76939161e-01  7.66347588e-01  1.00407584e+00 -1.38912540e+00\n",
      " -1.82951222e-01  1.67987173e+00 -5.23444085e-01  3.52931202e-01\n",
      " -2.29556109e+00  1.96630733e-02  5.93175239e-01 -1.05673665e+00\n",
      " -4.84894330e-01 -2.18188308e-01  2.68257782e+00 -9.80743121e-02\n",
      "  2.31088981e+00 -5.13850413e-01  4.20572158e-01 -1.15172516e+00\n",
      "  2.45741363e-01 -2.45765180e+00 -2.19486011e+00 -2.82101936e-01\n",
      " -8.69797873e-01  1.08102105e+00 -1.26582327e+00  7.89560683e-01\n",
      "  3.78466364e-03  4.65656295e-01 -2.03564021e-01 -2.98596559e-01\n",
      "  1.76681760e-01  4.96852953e-01 -3.36751063e-02  1.78697125e-01\n",
      "  1.04632883e+00  9.56515104e-02 -5.06086663e-01  4.77949143e-01\n",
      "  7.53760333e-02  8.97840799e-01 -3.22156148e-01  1.58357639e+00\n",
      " -1.12457368e+00 -2.11088460e-02 -3.98089611e-01  1.26466222e-01\n",
      "  1.32200448e+00 -3.06455746e-01  1.31735413e+00 -2.71657889e-02\n",
      "  5.91457931e-01 -5.99366584e-01  1.43169740e+00  7.42935072e-01\n",
      " -2.00224961e-01 -2.59177838e+00 -2.49529209e+00 -7.53206207e-01\n",
      "  6.05270745e-01 -6.87105168e-01  3.49538935e-01  2.69491067e-01\n",
      " -9.00765455e-01  9.87810807e-01 -2.81165740e-01  1.79199442e+00\n",
      " -9.36843016e-02  6.22235700e-01  4.99251997e-01  1.11900245e+00\n",
      "  7.20424767e-02 -3.56198129e-01  1.68007179e+00  1.91679252e-01\n",
      " -1.85229886e+00  2.29687339e+00 -6.05703383e-01 -3.62995839e-01\n",
      "  5.04597992e-01 -1.52455602e+00  1.98716516e+00  2.48872702e+00\n",
      "  5.70108738e-01  9.54852848e-01 -5.66948204e-01 -6.98002804e-01\n",
      " -1.49630285e+00 -1.79800805e-01 -6.67384417e-01  8.41528410e-01\n",
      "  6.33166520e-01 -2.20672180e-02  4.55117414e-01 -5.32014620e-01\n",
      "  1.74074311e-01 -2.39817133e+00 -1.06783176e+00 -1.99709657e-01\n",
      " -7.74818268e-01  1.22727470e+00 -2.37140999e+00  8.36655432e-01\n",
      " -3.41837301e-01 -1.94786142e-01 -8.02887000e-01  1.66091798e+00\n",
      " -2.29113663e+00  3.66021144e-01  1.50111600e+00 -1.73770508e-01\n",
      "  4.44743843e-01  1.46171223e-01 -9.13833371e-01 -8.77929990e-01\n",
      " -1.04061247e+00 -1.75032665e+00  1.15695558e+00  3.68833830e-01\n",
      " -3.62459455e-01 -1.03185682e+00  6.72957547e-01 -1.20731708e+00\n",
      "  1.71719601e+00  3.64290702e-01 -3.32194119e-01 -1.63314695e+00\n",
      "  2.80660979e+00  1.56948844e+00 -3.44555323e-01  5.06651856e-01\n",
      "  3.54978033e-01 -1.42650868e+00 -9.46593754e-02  2.12116096e-01\n",
      "  1.15683136e+00  9.70655271e-01 -3.18981871e-01 -6.65467883e-01\n",
      " -8.94533309e-01 -6.05965395e-01  9.25264563e-01  1.01151976e+00\n",
      " -1.62771868e+00 -5.21888139e-01 -3.31820257e-02 -5.30136358e-01\n",
      "  2.40076436e+00 -4.57162832e-01  1.23337650e+00 -1.11812754e+00\n",
      "  1.20953686e+00  8.91516033e-01 -2.09329531e+00 -6.71702691e-01\n",
      "  2.85451289e-01 -4.84758785e-01 -9.54215856e-01 -4.82867879e-01\n",
      "  3.91958866e-01 -5.72529883e-01  6.09415439e-01  1.27641121e+00\n",
      "  1.99537137e+00 -1.38547655e-01  7.61966794e-02 -5.42784564e-03\n",
      "  2.73786800e-02 -1.36658091e+00 -8.57032366e-02  3.47780167e-01\n",
      " -6.40868364e-02  1.16553106e-01 -7.55425385e-02 -1.78467295e+00\n",
      " -8.80293204e-01 -2.94485771e-01 -5.85957896e-01 -3.00275121e+00\n",
      " -1.19781954e+00  1.05617211e-01  9.25617107e-01  1.28855014e+00\n",
      "  1.48017190e-02  5.85854907e-01 -5.45350562e-01 -5.87031318e-01\n",
      " -1.03253944e-01  2.30458199e+00  3.88102923e-01 -9.06307299e-01\n",
      "  1.98439338e+00 -1.38737279e-02  1.35309056e+00 -1.80136854e+00\n",
      " -6.85866289e-01 -8.34933923e-01  2.45858585e-01 -2.47431938e-01\n",
      "  7.78550434e-01  4.83934052e-01  7.04391585e-01 -9.63748168e-01\n",
      "  2.84676188e-01 -3.70765591e-01 -9.95858342e-01  3.34362471e-01\n",
      " -1.37259951e+00  4.05080211e-01  8.68554104e-01  8.42030871e-01\n",
      "  2.28244630e-01 -1.32585678e-01 -1.35810659e+00 -4.48664522e-02\n",
      " -5.90520814e-01  7.32302640e-01 -4.46288120e-01 -1.89795965e+00\n",
      " -7.47170228e-01 -1.67055468e+00 -4.12956818e-02  9.31939719e-01\n",
      " -5.51403950e-01 -5.87825685e-01  9.76889582e-03 -6.55406807e-01\n",
      " -5.43433531e-01  3.19010275e-01  7.76107993e-01 -1.91144077e-01\n",
      " -6.60086757e-01 -7.95451316e-02 -4.11000460e-01 -1.23747519e+00\n",
      "  1.21883703e+00  4.48625733e-01 -6.67553598e-01  2.11535945e-01\n",
      "  2.13149897e-01  3.22868959e-01  1.94455933e+00 -4.12670215e-01\n",
      "  3.04177573e-01 -6.53427004e-01 -1.68240502e+00 -9.47353710e-01\n",
      "  7.82937528e-01 -1.11584955e+00 -1.75258493e+00 -7.92563068e-01\n",
      " -6.09818781e-01  1.83501797e-01  2.25409643e-01  3.44647003e-01\n",
      "  1.05246017e-01  1.60270913e+00  1.83034611e+00 -2.04617957e-01\n",
      "  1.18729117e+00 -1.52665190e+00 -1.58396854e+00  4.16120090e-01\n",
      " -1.16318489e+00  2.07918996e+00  3.20066359e-01  2.74691414e-01\n",
      " -3.52510792e-01 -1.39736492e-01  2.22893846e-01 -1.79944224e+00\n",
      " -5.89601243e-01  1.48911857e+00  6.09569587e-01 -6.03903256e-02\n",
      " -4.77363602e-01 -1.07194209e+00 -7.56769802e-01  7.37176064e-01\n",
      "  4.59111802e-01  1.46992279e+00  4.50194473e-01 -4.82976947e-01\n",
      "  8.83576972e-01  6.15328312e-01 -1.90451924e-01 -8.47127084e-01\n",
      " -9.06270504e-01  2.45618821e-01  1.80939201e-01 -5.43066935e-01\n",
      " -5.54181415e-02  2.85578898e-01  5.19971726e-01 -1.08944234e+00\n",
      "  1.90966861e+00 -5.84498749e-01  1.65199022e+00 -1.74734595e-01\n",
      "  9.80478571e-01 -4.19647671e-01 -2.29900738e+00  4.21637621e-01\n",
      "  1.05169766e+00  7.10762730e-01  4.36864539e-01  6.06915059e-01\n",
      "  1.36857872e+00  5.94330204e-01 -5.38425820e-01 -4.72669616e-01\n",
      "  6.79601885e-01 -6.92842604e-01 -4.59709752e-01 -1.91674236e-01\n",
      " -2.15843093e+00 -1.11230962e+00 -1.44990918e+00  1.04976115e+00\n",
      "  1.24855148e+00  2.24064519e+00 -2.12131910e+00 -2.53654029e+00\n",
      "  1.11949361e-01 -4.41032062e-01  7.74725803e-01 -8.24918770e-01\n",
      "  4.13147708e-01  6.30037847e-01  3.04627114e-02  3.82143986e-01\n",
      " -1.07563786e+00 -6.61223578e-02  4.70314058e-01 -6.38442519e-01\n",
      "  2.60633466e-01  2.12438717e-02  3.77831055e-01  1.75607897e+00\n",
      "  5.23563542e-01  2.89076073e+00 -5.93621379e-01 -2.44336920e+00\n",
      "  8.01708107e-01  1.64375761e+00 -1.51069312e+00  7.44692662e-01\n",
      " -4.93435370e-01  4.79700087e-01 -2.27161026e+00 -1.22984026e-01\n",
      " -1.29224088e+00  1.20256037e+00  1.73898203e+00 -2.19292136e-01\n",
      "  3.86496888e-01 -3.02203605e-01 -1.59483360e-01  5.40893972e-01\n",
      " -8.15135768e-01  2.83206123e-01 -9.85126966e-02 -4.87861897e-01\n",
      "  1.34467647e+00  8.11660707e-01 -2.44885071e+00  9.83274829e-01\n",
      " -5.60267900e-02  7.64913055e-01  9.52212916e-01  3.31161109e-01\n",
      " -1.18855350e+00 -1.77239885e+00  9.79583918e-01 -1.39427484e+00\n",
      " -4.71908698e-03 -2.26936081e-01  8.13769488e-01 -5.58974961e-02\n",
      " -1.05192445e+00 -1.76966510e+00  4.33456038e-02  1.55153638e+00\n",
      " -1.05741871e+00  7.13989440e-01  1.80314601e+00 -4.87497383e-01\n",
      "  3.24206846e-01 -6.99741136e-01  1.80571889e+00  7.76177535e-01\n",
      " -2.40729092e-01 -1.47248007e+00  2.15039886e-01  1.10575065e+00\n",
      "  1.20450129e-01 -1.06173987e+00  4.80864646e-01  3.01483888e-01\n",
      " -5.42357932e-01  3.45519717e-01  5.68558081e-01 -2.82272330e-01\n",
      " -1.07958449e+00 -1.23515110e+00  5.32996148e-01 -1.21134425e+00\n",
      "  6.87362917e-01 -2.11402602e+00  7.38534652e-01  1.44551725e-01\n",
      " -8.16576227e-01 -9.73755530e-01  2.65490911e-01  7.61419692e-01\n",
      " -7.28608246e-01 -2.08145787e+00 -8.35587126e-01 -2.02350614e+00\n",
      " -1.27177925e-02 -6.97216215e-01  2.24718894e+00 -7.53482662e-01\n",
      " -8.37832353e-02  1.64555979e+00 -1.91366292e-01 -2.90266211e-02\n",
      "  5.40170353e-01 -1.54235999e-01  1.34860886e+00  3.98697560e-01\n",
      "  3.74087177e-01 -8.02293423e-01 -8.17936475e-01 -2.89035086e-01\n",
      " -2.97606936e-01 -4.66796850e-01 -7.13808719e-01  3.11216507e-01\n",
      " -1.25259463e+00  3.18194202e-01  2.32903887e+00  3.48379253e-01\n",
      " -2.82035214e+00 -8.72474169e-01 -1.32249706e+00  3.12402751e-01\n",
      "  7.68575097e-01  3.26850670e-01 -5.33420802e-01  8.26006111e-01\n",
      "  1.45984028e+00  1.19766418e+00 -5.71568588e-02  1.41552237e+00\n",
      " -1.29811377e+00 -2.68973969e-01 -1.61524193e-01  7.17586961e-01\n",
      "  1.34145366e+00  6.58752537e-01  9.32250253e-01  1.66203355e+00\n",
      " -7.94457905e-01  7.26743742e-01  1.05520321e-01 -8.76806915e-01\n",
      " -1.23902512e+00 -2.33071805e-01  7.26846434e-01  1.48019675e+00\n",
      " -1.16596657e+00  6.17764391e-01 -2.26888212e+00 -1.50248215e-01\n",
      " -7.81573177e-01 -1.59388512e-01  1.56399043e+00  1.78890671e-01\n",
      " -1.00076326e+00  5.03953961e-01  7.20286654e-01 -5.14673167e-01\n",
      "  9.37215835e-01  4.45867315e-01  2.21590293e-01  7.99739745e-02\n",
      " -4.39728304e-01 -1.17999092e+00  1.26525617e+00  7.49565285e-01\n",
      "  5.28397284e-01  1.92192630e+00 -1.62066641e+00 -5.07285449e-01\n",
      "  3.61213664e-01 -4.14670200e-01 -8.50617884e-01 -8.21099314e-01\n",
      "  1.49202062e+00 -9.62624669e-01  8.76114328e-01  1.58005969e+00\n",
      "  9.86595712e-01  1.00898103e+00 -2.68721527e+00  4.45598424e-01\n",
      " -5.72585437e-02 -1.11455780e+00 -1.83351691e+00  1.14666537e+00\n",
      " -2.92719989e-01 -2.05449996e-01  2.31539781e-01 -4.49941340e-01\n",
      " -2.29390530e+00 -1.59255298e+00  1.38273775e+00 -1.43674130e+00\n",
      " -6.13818175e-01 -1.42545132e+00  2.10010440e-02 -9.19184919e-01\n",
      " -3.68587965e-01 -9.43857982e-01 -1.01331235e+00 -1.03645767e+00\n",
      "  1.46325130e+00  1.39453894e-01  6.54860037e-01 -6.61721759e-01\n",
      " -3.81990041e-01 -2.52019033e-01  1.11619586e+00 -2.22333685e+00\n",
      " -4.72649254e-01 -1.31101968e+00  8.77405936e-01 -1.05914830e+00\n",
      "  9.24930384e-01 -1.22441561e+00 -3.10240369e-01 -6.19446088e-01\n",
      "  8.77030559e-01  5.71998960e-01  8.38079329e-01 -8.73257600e-01\n",
      "  7.16830567e-01 -3.95407146e-01  4.94591861e-01 -1.22976031e+00\n",
      "  1.37289528e+00 -3.96368336e-01 -4.51302748e-01  8.60861023e-01\n",
      " -6.61118864e-01  1.31622480e+00  2.31941138e+00 -1.57011467e+00\n",
      "  8.43155616e-01 -1.17223493e+00 -5.39293203e-02 -1.27683028e+00\n",
      "  4.03560340e-01  1.80858344e+00  2.86557387e+00  7.21941705e-01\n",
      "  5.20744741e-01 -4.22370452e-02  5.25381286e-01  1.25443323e-01\n",
      " -7.05836487e-01 -1.96230321e+00 -5.65427534e-01  2.95451766e+00\n",
      " -2.00819227e-01 -7.33269391e-01 -1.60130123e+00 -3.73617909e-01\n",
      "  1.81053139e-01 -1.27382178e+00  1.43715144e+00  8.22551120e-01\n",
      " -2.68638705e-01  4.44326548e-01  7.82045878e-01 -4.67188341e-01\n",
      " -5.18453900e-01 -5.99320193e-01 -2.16555522e-01 -3.37400680e-02\n",
      " -5.08962597e-01  1.34217360e+00 -2.22269268e+00  2.10191778e-02\n",
      " -2.18280098e-01 -2.24060267e-01  9.43099719e-01  9.12840639e-01\n",
      "  8.08549543e-01 -1.24413848e+00 -8.46065589e-01 -8.52577689e-02\n",
      " -5.20676728e-01 -1.67230203e+00 -4.96946424e-01  1.62167091e-02\n",
      "  5.58707610e-01  2.25308990e-01 -8.84134243e-01 -4.95292499e-01\n",
      " -9.81136825e-02 -3.11943930e-01 -7.48212866e-01  5.10522215e-01\n",
      "  1.14841889e+00 -4.45175781e-01  1.16744469e-01  1.10847021e+00]\n"
     ]
    },
    {
     "data": {
      "text/plain": [
       "(array([ 1.,  0.,  0.,  0.,  0.,  0.,  1.,  0.,  0.,  1.,  0.,  1.,  1.,\n",
       "         1.,  1.,  4.,  1.,  7.,  5.,  2.,  4.,  2.,  2.,  1.,  3.,  5.,\n",
       "         7.,  4.,  9.,  4.,  7., 11.,  5.,  8., 13.,  9., 11., 14., 16.,\n",
       "        20., 18., 18., 16., 18., 24., 32., 25., 21., 24., 16., 32., 18.,\n",
       "        36., 36., 20., 28., 28., 28., 26., 33., 18., 22., 16., 17., 17.,\n",
       "        22., 21., 17., 15., 16., 11., 14., 13.,  6., 13.,  8., 13.,  6.,\n",
       "         5.,  9.,  2.,  4.,  5.,  3.,  5.,  1.,  3.,  2.,  2.,  3.,  2.,\n",
       "         2.,  1.,  0.,  0.,  2.,  1.,  1.,  2.,  2.]),\n",
       " array([-3.41738103, -3.35366204, -3.28994305, -3.22622407, -3.16250508,\n",
       "        -3.09878609, -3.03506711, -2.97134812, -2.90762913, -2.84391015,\n",
       "        -2.78019116, -2.71647217, -2.65275318, -2.5890342 , -2.52531521,\n",
       "        -2.46159622, -2.39787724, -2.33415825, -2.27043926, -2.20672028,\n",
       "        -2.14300129, -2.0792823 , -2.01556332, -1.95184433, -1.88812534,\n",
       "        -1.82440636, -1.76068737, -1.69696838, -1.6332494 , -1.56953041,\n",
       "        -1.50581142, -1.44209244, -1.37837345, -1.31465446, -1.25093547,\n",
       "        -1.18721649, -1.1234975 , -1.05977851, -0.99605953, -0.93234054,\n",
       "        -0.86862155, -0.80490257, -0.74118358, -0.67746459, -0.61374561,\n",
       "        -0.55002662, -0.48630763, -0.42258865, -0.35886966, -0.29515067,\n",
       "        -0.23143169, -0.1677127 , -0.10399371, -0.04027473,  0.02344426,\n",
       "         0.08716325,  0.15088224,  0.21460122,  0.27832021,  0.3420392 ,\n",
       "         0.40575818,  0.46947717,  0.53319616,  0.59691514,  0.66063413,\n",
       "         0.72435312,  0.7880721 ,  0.85179109,  0.91551008,  0.97922906,\n",
       "         1.04294805,  1.10666704,  1.17038602,  1.23410501,  1.297824  ,\n",
       "         1.36154298,  1.42526197,  1.48898096,  1.55269995,  1.61641893,\n",
       "         1.68013792,  1.74385691,  1.80757589,  1.87129488,  1.93501387,\n",
       "         1.99873285,  2.06245184,  2.12617083,  2.18988981,  2.2536088 ,\n",
       "         2.31732779,  2.38104677,  2.44476576,  2.50848475,  2.57220373,\n",
       "         2.63592272,  2.69964171,  2.76336069,  2.82707968,  2.89079867,\n",
       "         2.95451766]),\n",
       " <BarContainer object of 100 artists>)"
      ]
     },
     "execution_count": 6,
     "metadata": {},
     "output_type": "execute_result"
    },
    {
     "data": {
      "image/png": "[encoded data removed]",
      "text/plain": [
       "<Figure size 432x288 with 1 Axes>"
      ]
     },
     "metadata": {
      "needs_background": "light"
     },
     "output_type": "display_data"
    }
   ],
   "source": [
    "import numpy as np\n",
    "import matplotlib.pyplot as plt\n",
    "# Generate a Normal Distribution (1-D)\n",
    "# Such a distribution is called standard normal distribution\n",
    "u = 0\n",
    "sigma = 1\n",
    "\n",
    "# randn --> normaldistribution\n",
    "vals = np.random.randn(1000)\n",
    "print(vals.shape)\n",
    "print(\"STD: \",np.std(vals))\n",
    "print(\"Mean: \",np.mean(vals))\n",
    "\n",
    "vals = (vals - np.mean(vals))/np.array(np.std(vals))\n",
    "\n",
    "print(\"STD: \",np.std(vals))\n",
    "print(\"Mean: \",np.mean(vals))\n",
    "\n",
    "\n",
    "# converting to standard normal distribution\n",
    "Stand_norm = np.true_divide((vals - vals.mean()),vals.std())\n",
    "print(Stand_norm)\n",
    "\n",
    "plt.hist(vals,100)"
   ]
  },
  {
   "cell_type": "code",
   "execution_count": 6,
   "id": "a150156c",
   "metadata": {},
   "outputs": [
    {
     "data": {
      "text/plain": [
       "-0.002686533662251211"
      ]
     },
     "execution_count": 6,
     "metadata": {},
     "output_type": "execute_result"
    }
   ],
   "source": [
    "vals.mean()"
   ]
  },
  {
   "cell_type": "code",
   "execution_count": 7,
   "id": "0bb55012",
   "metadata": {},
   "outputs": [
    {
     "data": {
      "text/plain": [
       "0.9946014611041842"
      ]
     },
     "execution_count": 7,
     "metadata": {},
     "output_type": "execute_result"
    }
   ],
   "source": [
    "vals.std()"
   ]
  },
  {
   "cell_type": "markdown",
   "id": "7f972fdc",
   "metadata": {},
   "source": [
    "### Making normal distribution from standard normal distribution"
   ]
  },
  {
   "cell_type": "code",
   "execution_count": 25,
   "id": "c151005f",
   "metadata": {
    "collapsed": true
   },
   "outputs": [
    {
     "name": "stdout",
     "output_type": "stream",
     "text": [
      "(1000,)\n"
     ]
    },
    {
     "data": {
      "text/plain": [
       "(array([ 1.,  4.,  4.,  8.,  8., 13., 13., 13., 14., 20., 24., 19., 45.,\n",
       "        46., 51., 51., 60., 51., 56., 43., 52., 38., 52., 53., 50., 41.,\n",
       "        28., 25., 25., 21., 21., 15.,  7.,  6.,  1.,  4.,  4.,  3.,  3.,\n",
       "         3.,  0.,  2.,  0.,  0.,  1.,  0.,  0.,  0.,  0.,  1.]),\n",
       " array([-0.31547857, -0.03500206,  0.24547446,  0.52595098,  0.80642749,\n",
       "         1.08690401,  1.36738052,  1.64785704,  1.92833356,  2.20881007,\n",
       "         2.48928659,  2.7697631 ,  3.05023962,  3.33071614,  3.61119265,\n",
       "         3.89166917,  4.17214568,  4.4526222 ,  4.73309872,  5.01357523,\n",
       "         5.29405175,  5.57452826,  5.85500478,  6.1354813 ,  6.41595781,\n",
       "         6.69643433,  6.97691084,  7.25738736,  7.53786388,  7.81834039,\n",
       "         8.09881691,  8.37929343,  8.65976994,  8.94024646,  9.22072297,\n",
       "         9.50119949,  9.78167601, 10.06215252, 10.34262904, 10.62310555,\n",
       "        10.90358207, 11.18405859, 11.4645351 , 11.74501162, 12.02548813,\n",
       "        12.30596465, 12.58644117, 12.86691768, 13.1473942 , 13.42787071,\n",
       "        13.70834723]),\n",
       " <BarContainer object of 50 artists>)"
      ]
     },
     "execution_count": 25,
     "metadata": {},
     "output_type": "execute_result"
    },
    {
     "data": {
      "image/png": "[encoded data removed]",
      "text/plain": [
       "<Figure size 432x288 with 1 Axes>"
      ]
     },
     "metadata": {
      "needs_background": "light"
     },
     "output_type": "display_data"
    }
   ],
   "source": [
    "# Generate a Normal Distribution\n",
    "u = 5\n",
    "sigma = 2\n",
    "\n",
    "Vals = u + sigma*(np.random.randn(1000))\n",
    "print(Vals.shape)\n",
    "\n",
    "plt.hist(Vals,50)"
   ]
  },
  {
   "cell_type": "code",
   "execution_count": 26,
   "id": "cc48ba41",
   "metadata": {},
   "outputs": [
    {
     "data": {
      "text/plain": [
       "2.0485612899359795"
      ]
     },
     "execution_count": 26,
     "metadata": {},
     "output_type": "execute_result"
    }
   ],
   "source": [
    "np.std(Vals)"
   ]
  },
  {
   "cell_type": "code",
   "execution_count": 27,
   "id": "1ded2afb",
   "metadata": {},
   "outputs": [
    {
     "data": {
      "text/plain": [
       "5.0993188036051595"
      ]
     },
     "execution_count": 27,
     "metadata": {},
     "output_type": "execute_result"
    }
   ],
   "source": [
    "np.mean(Vals)"
   ]
  },
  {
   "cell_type": "markdown",
   "id": "52f35e94",
   "metadata": {},
   "source": [
    "### Rounding numpy array"
   ]
  },
  {
   "cell_type": "code",
   "execution_count": 20,
   "id": "c3382fe0",
   "metadata": {},
   "outputs": [],
   "source": [
    "vals = np.round(vals)"
   ]
  },
  {
   "cell_type": "markdown",
   "id": "c36f879a",
   "metadata": {},
   "source": [
    "### Getting unique numbers and there corresponding frequencies"
   ]
  },
  {
   "cell_type": "code",
   "execution_count": 21,
   "id": "9f7a5e02",
   "metadata": {},
   "outputs": [
    {
     "name": "stdout",
     "output_type": "stream",
     "text": [
      "Unique values are [-3. -2. -1.  0.  1.  2.  3.]\n",
      "Corresponding frequencies of unique vals: [  6  61 235 404 234  52   8]\n"
     ]
    }
   ],
   "source": [
    "# We are able to get discrete values and that too finite as we have rounded of\n",
    "val,frequency= np.unique(vals,return_counts = True)\n",
    "print(\"Unique values are\",val)\n",
    "print(\"Corresponding frequencies of unique vals:\",frequency)"
   ]
  },
  {
   "cell_type": "markdown",
   "id": "2c58b6a8",
   "metadata": {},
   "source": [
    "### Getting unique values..."
   ]
  },
  {
   "cell_type": "code",
   "execution_count": 18,
   "id": "b8aec7db",
   "metadata": {},
   "outputs": [
    {
     "data": {
      "text/plain": [
       "array([-3., -2., -1., -0.,  1.,  2.,  3.])"
      ]
     },
     "execution_count": 18,
     "metadata": {},
     "output_type": "execute_result"
    }
   ],
   "source": [
    "np.unique(vals)"
   ]
  },
  {
   "cell_type": "code",
   "execution_count": 17,
   "id": "820e2e85",
   "metadata": {},
   "outputs": [
    {
     "data": {
      "text/plain": [
       "array([ 2,  4,  6,  8, 10])"
      ]
     },
     "execution_count": 17,
     "metadata": {},
     "output_type": "execute_result"
    }
   ],
   "source": [
    " np.array([1,2,3,4,5])*2"
   ]
  },
  {
   "cell_type": "code",
   "execution_count": 24,
   "id": "b131951a",
   "metadata": {},
   "outputs": [
    {
     "data": {
      "text/plain": [
       "<matplotlib.collections.PathCollection at 0x1c986e70280>"
      ]
     },
     "execution_count": 24,
     "metadata": {},
     "output_type": "execute_result"
    },
    {
     "data": {
      "image/png": "[encoded data removed]",
      "text/plain": [
       "<Figure size 432x288 with 1 Axes>"
      ]
     },
     "metadata": {
      "needs_background": "light"
     },
     "output_type": "display_data"
    }
   ],
   "source": [
    "x = np.random.randn(100)\n",
    "\n",
    "# np.zeros as we don't need to do anything special with y values we just \n",
    "# need them to know where the density is highest\n",
    "y = np.zeros(x.shape)\n",
    "\n",
    "plt.scatter(x,y)"
   ]
  },
  {
   "cell_type": "code",
   "execution_count": null,
   "id": "27b73801",
   "metadata": {},
   "outputs": [],
   "source": []
  }
 ],
 "metadata": {
  "kernelspec": {
   "display_name": "Python 3 (ipykernel)",
   "language": "python",
   "name": "python3"
  },
  "language_info": {
   "codemirror_mode": {
    "name": "ipython",
    "version": 3
   },
   "file_extension": ".py",
   "mimetype": "text/x-python",
   "name": "python",
   "nbconvert_exporter": "python",
   "pygments_lexer": "ipython3",
   "version": "3.9.12"
  }
 },
 "nbformat": 4,
 "nbformat_minor": 5
}
