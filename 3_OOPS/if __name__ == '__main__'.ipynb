{
 "cells": [
  {
   "cell_type": "code",
   "execution_count": null,
   "id": "05c6e3e7",
   "metadata": {},
   "outputs": [],
   "source": [
    "# If python runs a python file directly it sets the __name__ variable equla to __main__"
   ]
  },
  {
   "cell_type": "code",
   "execution_count": 2,
   "id": "d7cc13be",
   "metadata": {},
   "outputs": [
    {
     "name": "stdout",
     "output_type": "stream",
     "text": [
      "This is first module's name __main__\n"
     ]
    }
   ],
   "source": [
    "print(\"This is first module's name {}\".format(__name__))"
   ]
  },
  {
   "cell_type": "code",
   "execution_count": null,
   "id": "73fff55a",
   "metadata": {},
   "outputs": [],
   "source": [
    "# Whenever we import a module it sets the __name__ module equal to the name of the file from where we imported the file"
   ]
  }
 ],
 "metadata": {
  "kernelspec": {
   "display_name": "PracticeENV",
   "language": "python",
   "name": "practiceenv"
  },
  "language_info": {
   "codemirror_mode": {
    "name": "ipython",
    "version": 3
   },
   "file_extension": ".py",
   "mimetype": "text/x-python",
   "name": "python",
   "nbconvert_exporter": "python",
   "pygments_lexer": "ipython3",
   "version": "3.6.13"
  }
 },
 "nbformat": 4,
 "nbformat_minor": 5
}
