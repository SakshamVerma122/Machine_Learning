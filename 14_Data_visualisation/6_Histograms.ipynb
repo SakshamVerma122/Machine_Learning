{
 "cells": [
  {
   "cell_type": "code",
   "execution_count": 9,
   "id": "71311f16",
   "metadata": {},
   "outputs": [],
   "source": [
    "import numpy as np\n",
    "import matplotlib.pyplot as plt\n",
    "\n",
    "xsn = np.random.randn(100)\n",
    "# Let us assume that standard deviation is 5\n",
    "sigma = 5\n",
    "\n",
    "# Let us assume that mean of sample is 60\n",
    "u = 60\n",
    "\n",
    "# Rounding of to nearst integer\n",
    "X = (xsn*sigma + u).round()\n",
    "\n",
    "####### MAKING SECOND NORMAL DISTRIBUTION #######\n",
    "\n",
    "# Let us assume that standard deviation is 5\n",
    "sigma_2 = 8\n",
    "\n",
    "# Let us assume that mean of sample is 60\n",
    "u_2 = 70\n",
    "\n",
    "# Rounding of to nearst integer\n",
    "X2 = (xsn*sigma_2 + u_2).round()"
   ]
  },
  {
   "cell_type": "code",
   "execution_count": 10,
   "id": "7b3a4c9d",
   "metadata": {},
   "outputs": [
    {
     "data": {
      "text/plain": [
       "Text(0.5, 1.0, 'Marks vs Prob/FreqCount of Students')"
      ]
     },
     "execution_count": 10,
     "metadata": {},
     "output_type": "execute_result"
    },
    {
     "data": {
      "image/png": "[encoded data removed]",
      "text/plain": [
       "<Figure size 432x288 with 1 Axes>"
      ]
     },
     "metadata": {
      "needs_background": "light"
     },
     "output_type": "display_data"
    }
   ],
   "source": [
    "## Here we are getting a bell curve because of width of histogram bars as will contain a range of values(Example :- 50-60) as one of it's bar\n",
    "\n",
    "plt.hist(X,alpha=0.8)\n",
    "plt.hist(X2,alpha=0.8)\n",
    "# Alpha is for opacity\n",
    "\n",
    "plt.xlabel(\"Marks\")\n",
    "plt.ylabel(\"Prob/FreqCount of Students\")\n",
    "plt.title(\"Marks vs Prob/FreqCount of Students\")"
   ]
  },
  {
   "cell_type": "code",
   "execution_count": null,
   "id": "d60529dd",
   "metadata": {},
   "outputs": [],
   "source": []
  }
 ],
 "metadata": {
  "kernelspec": {
   "display_name": "Python 3 (ipykernel)",
   "language": "python",
   "name": "python3"
  },
  "language_info": {
   "codemirror_mode": {
    "name": "ipython",
    "version": 3
   },
   "file_extension": ".py",
   "mimetype": "text/x-python",
   "name": "python",
   "nbconvert_exporter": "python",
   "pygments_lexer": "ipython3",
   "version": "3.9.12"
  }
 },
 "nbformat": 4,
 "nbformat_minor": 5
}
